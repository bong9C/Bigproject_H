{
 "cells": [
  {
   "cell_type": "code",
   "execution_count": 29,
   "metadata": {},
   "outputs": [
    {
     "name": "stdout",
     "output_type": "stream",
     "text": [
      "감성분석 결과 : negative\n",
      "하이라이팅 : {'document': {'sentiment': 'negative', 'confidence': {'negative': 85.701294, 'positive': 0.0077366186, 'neutral': 14.290972}}, 'sentences': [{'content': '매일아침 일찍일어나서.', 'offset': 0, 'length': 12, 'sentiment': 'neutral', 'confidence': {'negative': 6.3523774e-05, 'positive': 7.1366885e-05, 'neutral': 0.99986506}, 'highlights': [{'offset': 0, 'length': 11}]}, {'content': ' 학원에 가야 되니까 죽고싶다', 'offset': 12, 'length': 16, 'sentiment': 'negative', 'confidence': {'negative': 0.9990269, 'positive': 0.00047019642, 'neutral': 0.0005029608}, 'highlights': [{'offset': 1, 'length': 13}]}]}\n"
     ]
    }
   ],
   "source": [
    "import json\n",
    "import requests\n",
    "\n",
    "text = \"매일아침 일찍일어나서. 학원에 가야 되니까 죽고싶다\"\n",
    "\n",
    "client_id = \"4sljcv89ci\"  # client id를 꼭 넣어주세요!\n",
    "client_secret = \"ieAKaN5ulYqefBNwS1Xo1UdHQeOX1qUmwRk4HIup\"  # client seceret을 꼭 넣어주세요!\n",
    "url = \"https://naveropenapi.apigw.ntruss.com/sentiment-analysis/v1/analyze\"\n",
    "headers = {\n",
    "    \"X-NCP-APIGW-API-KEY-ID\": client_id,\n",
    "    \"X-NCP-APIGW-API-KEY\": client_secret,\n",
    "    \"Content-Type\": \"application/json\"\n",
    "}\n",
    "data = {\n",
    "    \"content\": text[:min(len(text), 900)]\n",
    "}\n",
    "response = requests.post(url, data=json.dumps(data), headers=headers)\n",
    "result = json.loads(response.text)\n",
    "print(\"감성분석 결과 :\", result[\"document\"][\"sentiment\"])\n",
    "print(\"하이라이팅 :\", result)"
   ]
  },
  {
   "cell_type": "code",
   "execution_count": null,
   "metadata": {},
   "outputs": [],
   "source": []
  }
 ],
 "metadata": {
  "kernelspec": {
   "display_name": "base",
   "language": "python",
   "name": "python3"
  },
  "language_info": {
   "codemirror_mode": {
    "name": "ipython",
    "version": 3
   },
   "file_extension": ".py",
   "mimetype": "text/x-python",
   "name": "python",
   "nbconvert_exporter": "python",
   "pygments_lexer": "ipython3",
   "version": "3.11.4"
  }
 },
 "nbformat": 4,
 "nbformat_minor": 2
}
